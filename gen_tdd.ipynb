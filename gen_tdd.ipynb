{
  "nbformat": 4,
  "nbformat_minor": 0,
  "metadata": {
    "colab": {
      "provenance": [],
      "gpuType": "T4"
    },
    "kernelspec": {
      "name": "python3",
      "display_name": "Python 3"
    },
    "language_info": {
      "name": "python"
    },
    "accelerator": "GPU"
  },
  "cells": [
    {
      "cell_type": "code",
      "source": [
        "import json\n",
        "\n",
        "import numpy as np\n",
        "import pandas as pd\n",
        "import matplotlib.pyplot as plt\n",
        "%matplotlib inline\n",
        "\n",
        "import torch\n",
        "from torch.optim import Adam\n",
        "import torch.nn as nn\n",
        "import torch.nn.functional as F\n",
        "\n",
        "from typing import List, Tuple\n",
        "from torch import Tensor"
      ],
      "metadata": {
        "id": "x5rXXcQNJm-n"
      },
      "execution_count": 19,
      "outputs": []
    },
    {
      "cell_type": "code",
      "source": [
        "from IPython.display import clear_output\n",
        "from random import sample"
      ],
      "metadata": {
        "id": "lMqHmy2ZJzgu"
      },
      "execution_count": 20,
      "outputs": []
    },
    {
      "cell_type": "code",
      "source": [
        "import json\n",
        "import numpy as np\n",
        "import pandas as pd\n",
        "import torch\n",
        "from torch.utils.data import Dataset, DataLoader\n",
        "from sklearn.model_selection import train_test_split\n",
        "\n",
        "\n",
        "with open('/content/drive/MyDrive/data/lyrics.json', 'r') as file:\n",
        "    text = json.load(file)\n",
        "\n",
        "\n",
        "def split_song(lyrics):\n",
        "    verses = []\n",
        "    chorus = []\n",
        "    is_chorus = False\n",
        "\n",
        "    for line in lyrics:\n",
        "        line = line.strip()\n",
        "        if line.startswith(\"[Куплет\") or line.startswith(\"[Verse\"):\n",
        "            is_chorus = False\n",
        "        elif line.startswith(\"[Припев\") or line.startswith(\"[Chorus\"):\n",
        "            is_chorus = True\n",
        "        elif is_chorus:\n",
        "            chorus.append(line)\n",
        "        else:\n",
        "            verses.append(line)\n",
        "\n",
        "    return verses, chorus\n",
        "\n",
        "\n",
        "text = ''.join(text)\n",
        "lines = text.split(\"\\n\")\n",
        "\n",
        "\n",
        "lines = [line for line in lines if line.strip()]\n",
        "\n",
        "\n",
        "tokens = set(\" \".join(lines))\n",
        "tokens = sorted(tokens)\n",
        "\n",
        "\n",
        "token_to_id = {symbol: index for index, symbol in enumerate(tokens, start=1)}\n",
        "token_to_id['<PAD>'] = 0\n",
        "n_tokens = len(token_to_id)\n",
        "\n",
        "\n",
        "class SymbolDataset(Dataset):\n",
        "    def __init__(self, data, token_to_ids, batch_size=16):\n",
        "        self.data = data\n",
        "        self.token_to_ids = token_to_ids\n",
        "        self.batch_size = batch_size\n",
        "\n",
        "    def __len__(self):\n",
        "        return len(self.data)\n",
        "\n",
        "    def __getitem__(self, index):\n",
        "        symbols = [self.token_to_ids[symbol] for symbol in self.data[index]]\n",
        "        return symbols\n",
        "\n",
        "\n",
        "def collation(batch):\n",
        "    max_len = max(len(symbols) for symbols in batch)\n",
        "    batch_tensor = torch.zeros(len(batch), max_len, dtype=torch.long)\n",
        "\n",
        "    for i, symbols in enumerate(batch):\n",
        "        batch_tensor[i, :len(symbols)] = torch.tensor(symbols)\n",
        "\n",
        "    return batch_tensor\n",
        "\n",
        "\n",
        "train_lines, test_lines = train_test_split(lines, test_size=0.25, random_state=42)\n",
        "\n",
        "\n",
        "train_dataset = SymbolDataset(train_lines, token_to_id)\n",
        "train_loader = DataLoader(train_dataset, batch_size=16, shuffle=True, collate_fn=collation)\n",
        "\n",
        "test_dataset = SymbolDataset(test_lines, token_to_id)\n",
        "test_loader = DataLoader(test_dataset, batch_size=16, collate_fn=collation)\n",
        "\n",
        "\n",
        "device = torch.device(\"cuda\" if torch.cuda.is_available() else \"cpu\")\n",
        "train_loader = DataLoader(train_dataset, batch_size=16, shuffle=True, collate_fn=collation, pin_memory=True)\n",
        "test_loader = DataLoader(test_dataset, batch_size=16, collate_fn=collation, pin_memory=True)\n"
      ],
      "metadata": {
        "id": "aJDHcgPVCPq1"
      },
      "execution_count": 21,
      "outputs": []
    },
    {
      "cell_type": "code",
      "source": [
        "class RNNLanguageModel(nn.Module):\n",
        "    def __init__(self, n_tokens=n_tokens, emb_size=16, hid_size=256):\n",
        "        super().__init__()\n",
        "\n",
        "        self.emb = nn.Embedding(n_tokens, emb_size)\n",
        "        self.rnn = nn.LSTM(emb_size, hid_size, batch_first=True)\n",
        "        self.lr = nn.Linear(hid_size, n_tokens)\n",
        "\n",
        "\n",
        "\n",
        "    def __call__(self, input_ix):\n",
        "        emb = self.emb(input_ix)\n",
        "        out, (h, c) = self.rnn(emb)\n",
        "        out = self.lr(out)\n",
        "        return out"
      ],
      "metadata": {
        "id": "ZmGMvTZGJ5cm"
      },
      "execution_count": 22,
      "outputs": []
    },
    {
      "cell_type": "code",
      "source": [
        "class FixedWindowLanguageModel(nn.Module):\n",
        "    def __init__(self, n_tokens=n_tokens, emb_size=16, hid_size=64):\n",
        "        super().__init__()\n",
        "        stride = 1\n",
        "        kernel_size = 5\n",
        "        num_leading_zeros = (kernel_size - 1) * stride\n",
        "        self.embedding = nn.Embedding(n_tokens, emb_size, padding_idx=token_to_id[PAD])\n",
        "        self.padding = nn.ZeroPad2d((num_leading_zeros, 0, 0, 0))\n",
        "        self.conv = nn.Conv1d(emb_size, hid_size, kernel_size=kernel_size, stride=stride)\n",
        "        self.lr = nn.Linear(hid_size, n_tokens)\n",
        "\n",
        "\n",
        "    def __call__(self, input_ix):\n",
        "        emb = self.embedding(input_ix)\n",
        "        emb = emb.permute(0, 2, 1)\n",
        "        padded = self.padding(emb)\n",
        "        conved = self.conv(padded)\n",
        "        relu = F.relu(conved)\n",
        "        relu = relu.permute(0, 2, 1)\n",
        "        out = self.lr(relu)\n",
        "        return out"
      ],
      "metadata": {
        "id": "NjGXLV0hJdmm"
      },
      "execution_count": 23,
      "outputs": []
    },
    {
      "cell_type": "code",
      "source": [],
      "metadata": {
        "id": "VmuIJELyJp6e"
      },
      "execution_count": 23,
      "outputs": []
    },
    {
      "cell_type": "code",
      "source": [
        "def train_epoch(model, train_loader, optimizer, criterion, device):\n",
        "    model.train()\n",
        "    train_loss = 0.0\n",
        "    for i, batch in enumerate(train_loader):\n",
        "        inputs, targets = batch[:, :-1].to(device), batch[:, 1:].to(device)\n",
        "\n",
        "        optimizer.zero_grad()\n",
        "        outputs = model(inputs)\n",
        "        outputs = outputs.view(-1, n_tokens)\n",
        "        loss = criterion(outputs, targets.flatten())\n",
        "        loss.backward()\n",
        "        optimizer.step()\n",
        "\n",
        "        train_loss += loss.item()\n",
        "\n",
        "    return train_loss / len(train_loader)\n",
        "\n",
        "def evaluate(model, data_loader, criterion, device):\n",
        "    model.eval()\n",
        "    total_loss = 0.0\n",
        "    with torch.no_grad():\n",
        "        for batch in data_loader:\n",
        "            inputs, targets = batch[:, :-1].to(device), batch[:, 1:].to(device)\n",
        "            outputs = model(inputs)\n",
        "            outputs = outputs.view(-1, n_tokens)\n",
        "            loss = criterion(outputs, targets.flatten())\n",
        "            total_loss += loss.item()\n",
        "\n",
        "    return total_loss / len(data_loader)\n",
        "\n",
        "def plot_losses(train_losses, dev_losses=None):\n",
        "    plt.figure(figsize=(10, 5))\n",
        "    plt.plot(train_losses, label='Train Loss')\n",
        "    if dev_losses:\n",
        "        plt.plot(dev_losses, label='Dev Loss', color='red')\n",
        "    plt.xlabel('Epoch')\n",
        "    plt.ylabel('Loss')\n",
        "    plt.title('Training and Validation Losses')\n",
        "    plt.legend()\n",
        "    plt.grid(True)\n",
        "    plt.show()\n",
        "\n",
        "\n",
        "PAD = \"<PAD>\"\n",
        "\n",
        "\n",
        "model = FixedWindowLanguageModel().to(device)\n",
        "optimizer = Adam(model.parameters())\n",
        "criterion = nn.CrossEntropyLoss(ignore_index=token_to_id[PAD])\n",
        "\n",
        "train_losses = []\n",
        "dev_losses = []\n",
        "for epoch in range(10):\n",
        "    train_loss = train_epoch(model, train_loader, optimizer, criterion, device)\n",
        "    train_losses.append(train_loss)\n",
        "\n",
        "    dev_loss = evaluate(model, test_loader, criterion, device)\n",
        "    dev_losses.append(dev_loss)\n",
        "\n",
        "    clear_output(True)\n",
        "    plot_losses(train_losses, dev_losses)\n",
        "\n",
        "\n",
        "model_rnn = RNNLanguageModel().to(device)\n",
        "optimizer = Adam(model_rnn.parameters())\n",
        "criterion = nn.CrossEntropyLoss(ignore_index=token_to_id[PAD])\n",
        "\n",
        "train_losses_rnn = []\n",
        "dev_losses_rnn = []\n",
        "for epoch in range(10):\n",
        "    train_loss = train_epoch(model_rnn, train_loader, optimizer, criterion, device)\n",
        "    train_losses_rnn.append(train_loss)\n",
        "\n",
        "    dev_loss = evaluate(model_rnn, test_loader, criterion, device)\n",
        "    dev_losses_rnn.append(dev_loss)\n",
        "\n",
        "    clear_output(True)\n",
        "    plot_losses(train_losses_rnn, dev_losses_rnn)\n"
      ],
      "metadata": {
        "colab": {
          "base_uri": "https://localhost:8080/",
          "height": 487
        },
        "id": "3czilGzVIUP-",
        "outputId": "6c7fc144-84f5-4fa6-dc46-f66255a12bd5"
      },
      "execution_count": 24,
      "outputs": [
        {
          "output_type": "display_data",
          "data": {
            "text/plain": [
              "<Figure size 1000x500 with 1 Axes>"
            ],
            "image/png": "[encoded data removed]"
          },
          "metadata": {}
        }
      ]
    },
    {
      "cell_type": "code",
      "source": [
        "from typing import List, Dict\n",
        "\n",
        "id_to_token: Dict[int, str] = {i: symbol for symbol, i in token_to_id.items()}"
      ],
      "metadata": {
        "id": "2E1fF0nJK75A"
      },
      "execution_count": 25,
      "outputs": []
    },
    {
      "cell_type": "code",
      "source": [
        "EOS = \"\\n\"\n",
        "if EOS not in token_to_id:\n",
        "    token_to_id[EOS] = len(token_to_id)"
      ],
      "metadata": {
        "id": "-rrnzYNzLNHH"
      },
      "execution_count": 26,
      "outputs": []
    },
    {
      "cell_type": "code",
      "source": [
        "def generate_text(model, prompt, max_len=512, temperature=0):\n",
        "    device = next(model.parameters()).device\n",
        "    token_ids = [token_to_id[symbol] for symbol in prompt]\n",
        "    input_tensor = torch.tensor(token_ids, dtype=torch.long, device=device).unsqueeze(0)\n",
        "    generated_text = prompt\n",
        "\n",
        "    model.eval()\n",
        "    with torch.no_grad():\n",
        "        for _ in range(max_len):\n",
        "            output = model(input_tensor)\n",
        "            output = output[:, -1, :]\n",
        "\n",
        "            if temperature == 0:\n",
        "                _, ind = torch.max(output, dim=1)\n",
        "            else:\n",
        "                probs = F.softmax(output / temperature, dim=1)\n",
        "                ind = torch.multinomial(probs.squeeze(), 1)\n",
        "\n",
        "            token = ind.item()\n",
        "            generated_text += id_to_token[token]\n",
        "            if token == token_to_id[EOS] or len(generated_text) >= max_len:\n",
        "                break\n",
        "\n",
        "            input_tensor = torch.cat([input_tensor, ind.unsqueeze(0)], dim=1)\n",
        "\n",
        "    return generated_text\n",
        "\n",
        "# Генерация текста для модели FixedWindowLanguageModel\n",
        "text_fixed_window = generate_text(model, \"люблю \", temperature=0.2)\n",
        "print('Генерация текста для модели FixedWindowLanguageModel')\n",
        "print(text_fixed_window)\n",
        "\n",
        "# Генерация текста для модели RNNLanguageModel\n",
        "text_rnn = generate_text(model_rnn, \"Подарок \", temperature=0.2)\n",
        "print('\\nГенерация текста для модели RNNLanguageModel')\n",
        "print(text_rnn)\n"
      ],
      "metadata": {
        "colab": {
          "base_uri": "https://localhost:8080/"
        },
        "id": "qN4-nZXbJQ-O",
        "outputId": "1bc3fdd8-2fe5-4358-d404-a5180bc86226"
      },
      "execution_count": 27,
      "outputs": [
        {
          "output_type": "stream",
          "name": "stdout",
          "text": [
            "Генерация текста для модели FixedWindowLanguageModel\n",
            "люблю тебя в половать сто снова мыли когда в отрусто снова сто тебя в полова все мона, не сто тебя любил тебя в польно не не польне не припля всё тебя в половать меня в это тебя в номой дольно не посет потолько в мороче в ну меня в домой польно в это тебя в страза твои головать так снова в знесь в домоны, день в номой состаль тебя в полова мы не не не в номой на всё как в не не поснова не не всё тебя в польно не не не не не польная не не все меня в долоче в номо не не ты провить сти долоче в стот себя в пол\n",
            "\n",
            "Генерация текста для модели RNNLanguageModel\n",
            "Подарок тебя в последний раз мои друзья, как мы не винают в постель в последний в кого ты все домо в последний спаси меня в мои голова в кого в последний раз?, пока я спить, не помно в последная покомо с тобой ды сторай, как по просто с тобой делова по просто с тобой ды так просто тебя по проводала в моей всё запишь и стирай, цикли мои глаза в последний последний спаси меня в кого тебя не выводи слеза с тобой ды за тебя не пороге и твои города в долько не в тебя не породит со мной в тебя половать мои друзья\n"
          ]
        }
      ]
    },
    {
      "cell_type": "code",
      "source": [],
      "metadata": {
        "id": "7BZKtyDPLoZg"
      },
      "execution_count": 27,
      "outputs": []
    }
  ]
}